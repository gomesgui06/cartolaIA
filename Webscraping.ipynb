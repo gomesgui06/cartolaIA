{
 "cells": [
  {
   "cell_type": "markdown",
   "metadata": {},
   "source": [
    "# Webscrape Example"
   ]
  },
  {
   "cell_type": "code",
   "execution_count": 32,
   "metadata": {},
   "outputs": [],
   "source": [
    "import requests\n",
    "import urllib.request\n",
    "import time\n",
    "from bs4 import BeautifulSoup"
   ]
  },
  {
   "cell_type": "markdown",
   "metadata": {},
   "source": [
    "### Set the URL you want to webscrape from"
   ]
  },
  {
   "cell_type": "code",
   "execution_count": 56,
   "metadata": {},
   "outputs": [],
   "source": [
    "url2 = 'https://globoesporte.globo.com/futebol/times/corinthians/noticia/corinthians-tera-danilo-avelar-contra-o-gremio-e-aguarda-recuperacao-de-trio-de-titulares.ghtml'"
   ]
  },
  {
   "cell_type": "code",
   "execution_count": 33,
   "metadata": {},
   "outputs": [],
   "source": [
    "url = 'https://globoesporte.globo.com/futebol/times/corinthians/noticia/quem-e-janderson-conheca-o-jovem-que-estreou-pelo-corinthians-e-usa-lema-de-neymar.ghtml'"
   ]
  },
  {
   "cell_type": "markdown",
   "metadata": {},
   "source": [
    "### Connect to the URL"
   ]
  },
  {
   "cell_type": "code",
   "execution_count": 34,
   "metadata": {},
   "outputs": [],
   "source": [
    "response = requests.get(url)"
   ]
  },
  {
   "cell_type": "code",
   "execution_count": 58,
   "metadata": {},
   "outputs": [],
   "source": [
    "response2 = requests.get(url2)"
   ]
  },
  {
   "cell_type": "code",
   "execution_count": 35,
   "metadata": {},
   "outputs": [
    {
     "data": {
      "text/plain": [
       "<Response [200]>"
      ]
     },
     "execution_count": 35,
     "metadata": {},
     "output_type": "execute_result"
    }
   ],
   "source": [
    "response #200 means it went through"
   ]
  },
  {
   "cell_type": "markdown",
   "metadata": {},
   "source": [
    "### Parse HTML and save to BeautifulSoup object"
   ]
  },
  {
   "cell_type": "code",
   "execution_count": 36,
   "metadata": {},
   "outputs": [],
   "source": [
    "soup = BeautifulSoup(response.text, \"lxml\")"
   ]
  },
  {
   "cell_type": "code",
   "execution_count": 60,
   "metadata": {},
   "outputs": [],
   "source": [
    "soup2 = BeautifulSoup(response2.text, \"lxml\")"
   ]
  },
  {
   "cell_type": "code",
   "execution_count": 55,
   "metadata": {},
   "outputs": [
    {
     "name": "stdout",
     "output_type": "stream",
     "text": [
      " Por Bruno Cassucci — São Paulo \n",
      "  02/05/2019 07h59    Atualizado  2019-05-02T10:59:23.803Z    \n",
      " Conhece o Janderson? Pois se você é torcedor do Corinthians é bom ir se acostumando com este nome. \n",
      " O meia-atacante de 20 anos estreou como profissional do Timão no segundo tempo da vitória por 1 a 0 sobre a Chapecoense, na última quarta-feira, foi elogiado pelo técnico Fábio Carille e deve começar a receber cada vez mais chances. \n",
      " Natural de Barreiras, na Bahia, Janderson chegou ao Corinthians em agosto do ano passado, emprestado pelo Joinville, e rapidamente se firmou como titular da equipe sub-20. \n",
      " Além da facilidade para driblar e da velocidade, o jovem se destaca por ter \"muita personalidade\", como disse Carille após a partida contra a Chape. Tanto é que, depois da estreia, ao falar sobre seu estilo de jogo, o meia-atacante usou o lema de ninguém menos do que Neymar: \n",
      " – Eu jogo meu futebol, é ousadia e alegria. Não tem que intimidar, eu não caio na pressão de ninguém. É o que eu gosto de fazer, jogar bola! – afirmou. \n",
      " Janderson, meia-atacante do Corinthians, estreou diante da Chapecoense — Foto: Daniel Augusto Jr/Ag.Corinthians \n",
      " Um dos destaques do Corinthians na Copa São Paulo de Juniores neste ano, com cinco assistências, o garoto teve sua contratação pedida por Carille, que decidiu promovê-lo definitivamente ao elenco profissional após o Paulistão. \n",
      " Para ficar com o jogar, o Corinthians pagou R$ 200 mil ao Joinville por 20% dos direitos econômicos dele. O Timão também acertou que pagará R$ 500 mil por mais 50% em agosto. \n",
      " Em fevereiro, Janderson assinou contrato até o fim de 2022. \n",
      " Janderson renova contrato com o Corinthians — Foto: Divulgação \n",
      " – Sempre foi um sonho, até mesmo na Copa São Paulo a gente ia jogar e o estádio estava lotado. Aprendi a ter amor pelo Corinthians. Me dediquei para isso, estrear pelo profissional, quero agradecer essa torcida maravilhosa pelo apoio e o incentivo até o final – comentou o jovem, que disse ter ficado \"um pouco tímido\" em sua estreia. \n",
      " O que pode ajudar Janderson a ter mais minutos em campo é o fato de Carille avaliar que ele tem características raras no elenco alvinegro, principalmente o drible. Mesmo assim a vida do meia-atacante não será fácil, já que ele tem forte concorrência. Além dos titulares Clayson e Pedrinho, disputam posição com ele Vagner Love, Mateus Vital, André Luis e Sergio Díaz. Em breve, o Timão também deve contar com Everaldo, que está em fim de contrato com o Fluminense. \n",
      " No fim de 2018, em preparação para a Copinha, ele marcou este golaço em jogo-treino contra o Oeste. pic.twitter.com/TCpQg2aO5G \n",
      " Em cerca de 25 minutos em campo contra a Chapecoense, Janderson correu bastante, ajudou na marcação e tentou alguns dribles. O gol não saiu, mas, quando vier, será dedicado para a avó Maria, que mora em Missão de Aricobé, na Bahia, que é homenageada sempre que ele marca. \n"
     ]
    },
    {
     "ename": "IndexError",
     "evalue": "list index out of range",
     "output_type": "error",
     "traceback": [
      "\u001b[0;31m---------------------------------------------------------------------------\u001b[0m",
      "\u001b[0;31mIndexError\u001b[0m                                Traceback (most recent call last)",
      "\u001b[0;32m<ipython-input-55-649f323ce945>\u001b[0m in \u001b[0;36m<module>\u001b[0;34m\u001b[0m\n\u001b[1;32m      1\u001b[0m \u001b[0;32mfor\u001b[0m \u001b[0mi\u001b[0m \u001b[0;32min\u001b[0m \u001b[0mrange\u001b[0m\u001b[0;34m(\u001b[0m\u001b[0mlen\u001b[0m\u001b[0;34m(\u001b[0m\u001b[0msoup\u001b[0m\u001b[0;34m.\u001b[0m\u001b[0mfindAll\u001b[0m\u001b[0;34m(\u001b[0m\u001b[0;34m'p'\u001b[0m\u001b[0;34m)\u001b[0m\u001b[0;34m)\u001b[0m\u001b[0;34m+\u001b[0m\u001b[0;36m1\u001b[0m\u001b[0;34m)\u001b[0m\u001b[0;34m:\u001b[0m\u001b[0;34m\u001b[0m\u001b[0;34m\u001b[0m\u001b[0m\n\u001b[1;32m      2\u001b[0m                \u001b[0mone_a_tag\u001b[0m \u001b[0;34m=\u001b[0m \u001b[0msoup\u001b[0m\u001b[0;34m.\u001b[0m\u001b[0mfindAll\u001b[0m\u001b[0;34m(\u001b[0m\u001b[0;34m'p'\u001b[0m\u001b[0;34m)\u001b[0m\u001b[0;34m\u001b[0m\u001b[0;34m\u001b[0m\u001b[0m\n\u001b[0;32m----> 3\u001b[0;31m                \u001b[0mprint\u001b[0m\u001b[0;34m(\u001b[0m\u001b[0mone_a_tag\u001b[0m\u001b[0;34m[\u001b[0m\u001b[0mi\u001b[0m\u001b[0;34m]\u001b[0m\u001b[0;34m.\u001b[0m\u001b[0mget_text\u001b[0m\u001b[0;34m(\u001b[0m\u001b[0;34m)\u001b[0m\u001b[0;34m)\u001b[0m\u001b[0;34m\u001b[0m\u001b[0;34m\u001b[0m\u001b[0m\n\u001b[0m",
      "\u001b[0;31mIndexError\u001b[0m: list index out of range"
     ]
    }
   ],
   "source": [
    "for i in range(len(soup.findAll('p'))+1):\n",
    "               one_a_tag = soup.findAll('p')\n",
    "               print(one_a_tag[i].get_text())"
   ]
  },
  {
   "cell_type": "code",
   "execution_count": 63,
   "metadata": {},
   "outputs": [
    {
     "name": "stdout",
     "output_type": "stream",
     "text": [
      " Por Bruno Cassucci — Manaus \n",
      "  06/05/2019 06h00    Atualizado  2019-05-06T09:00:56.527Z    \n",
      " O Corinthians terá a volta do lateral-esquerdo Danilo Avelar diante do Grêmio, no sábado, e pode ainda contar com mais três reforços. Gustagol, Henrique e Júnior Urso estão em fase final de recuperação de lesões e têm chances de atuar na partida da 4ª rodada do Brasileirão, que acontece às 19h (de Brasília), em Itaquera. \n",
      " Os quatro apareceram em campo nos últimos dias para trabalho com fisioterapeutas, mas só Danilo Avelar está garantido no próximo jogo. \n",
      " – O Avelar é certeza (que volta), assim como Fagner e Manoel (que foram poupados contra o Vasco). Nós vamos ver a evolução do Gustavo, Henrique e Júnior Urso. Estamos em processo bem adiantado. A partir de quarta-feira eles devem treinar com o grupo. Eles estando liberados, temos de ver se eles reúnem condições para participar da partida – explicou o preparador físico Walmir Cruz. \n",
      " + Leia mais notícias do Corinthians \n",
      " Danilo Avelar e Júnior Urso, em treino do Corinthians — Foto: Daniel Augusto Jr/Ag.Corinthians \n",
      " Danilo Avelar, com dores no joelho esquerdo, Gustagol, que sofreu um edema muscular na coxa direita, e Henrique, que levou uma pancada na coxa direita, desfalcaram o Corinthians nas últimas quatro rodadas. \n",
      " Já Júnior Urso está fora desde a segunda final do Paulistão, por conta de uma lesão no músculo adutor da coxa direita. \n",
      " Além de contar com o retorno de jogadores que se recuperam de lesões, o Corinthians espera aproveitar a semana livre de jogos para descansar os atletas e fazer ajustes técnicos e táticos. \n",
      " – A gente procura ter um controle para saber quais atletas estão em condições melhores e piores. E por isso achamos melhor segurar alguns jogadores (contra o Vasco). A gente trabalha mais prevenção do que outra coisa. Ainda temos muitos jogos pela frente, nesse mês de maio serão nove jogos, se não me engano. Com viagens, partidas... precisamos ser inteligentes para não sofrer as consequências mais para frente – comentou Walmir Cruz. \n"
     ]
    },
    {
     "ename": "IndexError",
     "evalue": "list index out of range",
     "output_type": "error",
     "traceback": [
      "\u001b[0;31m---------------------------------------------------------------------------\u001b[0m",
      "\u001b[0;31mIndexError\u001b[0m                                Traceback (most recent call last)",
      "\u001b[0;32m<ipython-input-63-4bcbda178465>\u001b[0m in \u001b[0;36m<module>\u001b[0;34m\u001b[0m\n\u001b[1;32m      1\u001b[0m \u001b[0;32mfor\u001b[0m \u001b[0mi\u001b[0m \u001b[0;32min\u001b[0m \u001b[0mrange\u001b[0m\u001b[0;34m(\u001b[0m\u001b[0mlen\u001b[0m\u001b[0;34m(\u001b[0m\u001b[0msoup2\u001b[0m\u001b[0;34m.\u001b[0m\u001b[0mfindAll\u001b[0m\u001b[0;34m(\u001b[0m\u001b[0;34m'p'\u001b[0m\u001b[0;34m)\u001b[0m\u001b[0;34m)\u001b[0m\u001b[0;34m+\u001b[0m\u001b[0;36m1\u001b[0m\u001b[0;34m)\u001b[0m\u001b[0;34m:\u001b[0m\u001b[0;34m\u001b[0m\u001b[0;34m\u001b[0m\u001b[0m\n\u001b[1;32m      2\u001b[0m     \u001b[0mone_a_tag\u001b[0m \u001b[0;34m=\u001b[0m \u001b[0msoup2\u001b[0m\u001b[0;34m.\u001b[0m\u001b[0mfindAll\u001b[0m\u001b[0;34m(\u001b[0m\u001b[0;34m'p'\u001b[0m\u001b[0;34m)\u001b[0m\u001b[0;34m\u001b[0m\u001b[0;34m\u001b[0m\u001b[0m\n\u001b[0;32m----> 3\u001b[0;31m     \u001b[0mprint\u001b[0m\u001b[0;34m(\u001b[0m\u001b[0mone_a_tag\u001b[0m\u001b[0;34m[\u001b[0m\u001b[0mi\u001b[0m\u001b[0;34m]\u001b[0m\u001b[0;34m.\u001b[0m\u001b[0mget_text\u001b[0m\u001b[0;34m(\u001b[0m\u001b[0;34m)\u001b[0m\u001b[0;34m)\u001b[0m\u001b[0;34m\u001b[0m\u001b[0;34m\u001b[0m\u001b[0m\n\u001b[0m",
      "\u001b[0;31mIndexError\u001b[0m: list index out of range"
     ]
    }
   ],
   "source": [
    "for i in range(len(soup2.findAll('p'))+1):\n",
    "    one_a_tag = soup2.findAll('p')\n",
    "    print(one_a_tag[i].get_text())"
   ]
  },
  {
   "cell_type": "code",
   "execution_count": null,
   "metadata": {},
   "outputs": [],
   "source": []
  }
 ],
 "metadata": {
  "kernelspec": {
   "display_name": "Python 3",
   "language": "python",
   "name": "python3"
  },
  "language_info": {
   "codemirror_mode": {
    "name": "ipython",
    "version": 3
   },
   "file_extension": ".py",
   "mimetype": "text/x-python",
   "name": "python",
   "nbconvert_exporter": "python",
   "pygments_lexer": "ipython3",
   "version": "3.6.7"
  }
 },
 "nbformat": 4,
 "nbformat_minor": 2
}
